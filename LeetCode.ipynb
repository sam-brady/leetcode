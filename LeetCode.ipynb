{
 "cells": [
  {
   "cell_type": "markdown",
   "metadata": {},
   "source": [
    "# 1 Two Sum"
   ]
  },
  {
   "cell_type": "markdown",
   "metadata": {},
   "source": [
    "Given an array of integers, return indices of the two numbers such that they add up to a specific target.\n",
    "\n",
    "You may assume that each input would have exactly one solution, and you may not use the same element twice.\n",
    "\n",
    "Example:\n",
    "\n",
    "Given nums = [2, 7, 11, 15], target = 9,\n",
    "\n",
    "Because nums[0] + nums[1] = 2 + 7 = 9,\n",
    "return [0, 1]."
   ]
  },
  {
   "cell_type": "code",
   "execution_count": null,
   "metadata": {},
   "outputs": [],
   "source": [
    "\n",
    "\n",
    "class Solution:\n",
    "    def twoSum(self, nums, target):\n",
    "        \n",
    "        \n",
    "        h = {}                            # strore numbers that have already been seen\n",
    "        \n",
    "        for i , num in enumerate(nums):   # get index and numbers of list\n",
    "            \n",
    "            n = target - num              # calculate possible secondary number\n",
    "            \n",
    "            if n not in h:                # check to see if secondary number has already been seen\n",
    "                \n",
    "                h[num] = i                # if it hasn't add it and index to the list and move on\n",
    "                \n",
    "            else:                         # if it has already been seen we have the two numbers we need\n",
    "                return [h[n], i]          # return index of first number that has already been seen and second number \n",
    "        "
   ]
  },
  {
   "cell_type": "markdown",
   "metadata": {},
   "source": [
    "# 7 Reverse Integer"
   ]
  },
  {
   "cell_type": "markdown",
   "metadata": {},
   "source": [
    "Given a 32-bit signed integer, reverse digits of an integer.\n",
    "\n",
    "Examples:\n",
    "\n",
    "Input: 123\n",
    "Output: 321\n",
    "\n",
    "\n",
    "Input: -123\n",
    "Output: -321\n",
    "\n",
    "\n",
    "Input: 120\n",
    "Output: 21\n",
    "\n",
    "Note:\n",
    "Assume we are dealing with an environment which could only store integers within the 32-bit signed integer range: [−2^31,  2^31 − 1]. For the purpose of this problem, assume that your function returns 0 when the reversed integer overflows."
   ]
  },
  {
   "cell_type": "code",
   "execution_count": null,
   "metadata": {},
   "outputs": [],
   "source": [
    "class Solution:\n",
    "    def reverse(self, x: int) -> int:\n",
    "        \n",
    "        \n",
    "        if x > 0:                              # for positive numbers  \n",
    "            a =  int(str(x)[::-1])             # reverse slice every character as a string then convert to int\n",
    "        \n",
    "        if x <=0:                              # for negative numbers or 0  \n",
    "            a = -1 * int(str(x*-1)[::-1])      # same but change to positive and then after back to negative\n",
    "        \n",
    "        \n",
    "                                               # for 32 bit overflow  \n",
    "        mina = -2**31  \n",
    "        maxa = 2**31 - 1  \n",
    "        \n",
    "        if a not in range(mina, maxa):         # if outside of exclusive range then return 0\n",
    "            return 0        \n",
    "        else:  \n",
    "            return a                           # otherwise return a"
   ]
  },
  {
   "cell_type": "markdown",
   "metadata": {},
   "source": [
    "# 9 Palindrome Number"
   ]
  },
  {
   "cell_type": "markdown",
   "metadata": {},
   "source": [
    "Determine whether an integer is a palindrome. An integer is a palindrome when it reads the same backward as forward.\n",
    "\n",
    "Example 1:\n",
    "Input: 121\n",
    "Output: true\n",
    "\n",
    "Example 2:\n",
    "Input: -121\n",
    "Output: false\n",
    "Explanation: From left to right, it reads -121. From right to left, it becomes 121-. Therefore it is not a palindrome.\n",
    "\n",
    "Example 3:\n",
    "Input: 10\n",
    "Output: false\n",
    "Explanation: Reads 01 from right to left. Therefore it is not a palindrome.\n",
    "Follow up:\n",
    "\n",
    "Coud you solve it without converting the integer to a string?\n",
    "\n"
   ]
  },
  {
   "cell_type": "code",
   "execution_count": null,
   "metadata": {},
   "outputs": [],
   "source": [
    "class Solution:\n",
    "    def isPalindrome(self, x: int) -> bool:\n",
    "        \n",
    "\n",
    "        test = 0\n",
    "        temp = x\n",
    "        \n",
    "        while(x>0):                # run while positive... palindromes can't be negative\n",
    "            last = x%10            # get the last digit of number by using mod 10 (pop it out)\n",
    "            test = test*10 + last  # move everything over by one decimal place and add the last digit to test number\n",
    "            x = x//10              # remove the last digit from number by dividing by 10 with no remainder\n",
    "        \n",
    "        if temp == test:           # if test matches temp it's a palindrome\n",
    "            return True\n",
    "        \n",
    "        else:\n",
    "            return False           # if no match or number is negative then not a palidrome"
   ]
  },
  {
   "cell_type": "code",
   "execution_count": null,
   "metadata": {},
   "outputs": [],
   "source": []
  },
  {
   "cell_type": "code",
   "execution_count": null,
   "metadata": {},
   "outputs": [],
   "source": []
  },
  {
   "cell_type": "code",
   "execution_count": null,
   "metadata": {},
   "outputs": [],
   "source": []
  },
  {
   "cell_type": "code",
   "execution_count": null,
   "metadata": {},
   "outputs": [],
   "source": []
  },
  {
   "cell_type": "code",
   "execution_count": null,
   "metadata": {},
   "outputs": [],
   "source": []
  },
  {
   "cell_type": "code",
   "execution_count": null,
   "metadata": {},
   "outputs": [],
   "source": []
  },
  {
   "cell_type": "code",
   "execution_count": null,
   "metadata": {},
   "outputs": [],
   "source": []
  },
  {
   "cell_type": "code",
   "execution_count": null,
   "metadata": {},
   "outputs": [],
   "source": []
  },
  {
   "cell_type": "code",
   "execution_count": null,
   "metadata": {},
   "outputs": [],
   "source": []
  }
 ],
 "metadata": {
  "kernelspec": {
   "display_name": "Python 3",
   "language": "python",
   "name": "python3"
  },
  "language_info": {
   "codemirror_mode": {
    "name": "ipython",
    "version": 3
   },
   "file_extension": ".py",
   "mimetype": "text/x-python",
   "name": "python",
   "nbconvert_exporter": "python",
   "pygments_lexer": "ipython3",
   "version": "3.7.4"
  }
 },
 "nbformat": 4,
 "nbformat_minor": 4
}
